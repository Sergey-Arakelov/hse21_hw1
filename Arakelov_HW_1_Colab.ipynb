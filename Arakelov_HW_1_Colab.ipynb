{
  "nbformat": 4,
  "nbformat_minor": 0,
  "metadata": {
    "colab": {
      "name": "Arakelov_HW_1_Colab.ipynb",
      "provenance": [],
      "collapsed_sections": []
    },
    "kernelspec": {
      "name": "python3",
      "display_name": "Python 3"
    },
    "language_info": {
      "name": "python"
    }
  },
  "cells": [
    {
      "cell_type": "code",
      "metadata": {
        "colab": {
          "base_uri": "https://localhost:8080/"
        },
        "id": "PWC3Xm-0nyO_",
        "outputId": "c0bc177a-5f17-4832-e6b6-c57da86497b3"
      },
      "source": [
        "ls"
      ],
      "execution_count": null,
      "outputs": [
        {
          "output_type": "stream",
          "name": "stdout",
          "text": [
            "Poil_contig.fa  \u001b[0m\u001b[01;34msample_data\u001b[0m/\n"
          ]
        }
      ]
    },
    {
      "cell_type": "code",
      "metadata": {
        "colab": {
          "base_uri": "https://localhost:8080/"
        },
        "id": "gHrowfeGn-xp",
        "outputId": "4cf067db-30e8-4e50-cad3-341b35dbf27a"
      },
      "source": [
        "\n",
        "f = open(\"Poil_contig.fa\", \"r\")\n",
        "count = 0\n",
        "lenth = 0\n",
        "all_ctg = []\n",
        "for i in f.readlines():\n",
        "    if i[0] == '>':\n",
        "        count += 1\n",
        "        index_len = i.find('len')+3\n",
        "        lenth += int(i[index_len : i.find('_', index_len)])\n",
        "        all_ctg.append(int(i[index_len : i.find('_', index_len)]))\n",
        "all_ctg.sort(reverse = True)\n",
        "print(\"Общее количество контигов:\", count)\n",
        "print(\"Общая длина контигов:\", lenth)\n",
        "print(\"Длина самого длинного контига:\", all_ctg[0])\n",
        "s = 0\n",
        "for i in all_ctg:\n",
        "    s += i\n",
        "    if (s >= (lenth/2)):\n",
        "        print(\"N50:\", i)\n",
        "        break"
      ],
      "execution_count": null,
      "outputs": [
        {
          "output_type": "stream",
          "name": "stdout",
          "text": [
            "Общее количество контигов: 605\n",
            "Общая длина контигов: 3923955\n",
            "Длина самого длинного контига: 179307\n",
            "N50: 48053\n"
          ]
        }
      ]
    },
    {
      "cell_type": "code",
      "metadata": {
        "colab": {
          "base_uri": "https://localhost:8080/"
        },
        "id": "XHCb6hN7oHNE",
        "outputId": "f6e64ab3-fc30-4db5-efd1-2ad8330eb9a6"
      },
      "source": [
        "f = open(\"Poil_scaffold.fa\", \"r\")\n",
        "count = 0\n",
        "lenth = 0\n",
        "all_ctg = []\n",
        "for i in f.readlines():\n",
        "    if i[0] == '>':\n",
        "        count += 1\n",
        "        index_len = i.find('len')+3\n",
        "        lenth += int(i[index_len : i.find('_', index_len)])\n",
        "        all_ctg.append(int(i[index_len : i.find('_', index_len)]))\n",
        "all_ctg.sort(reverse = True)\n",
        "print(\"Общее количество скаффолдов:\", count)\n",
        "print(\"Общая длина скаффолдов:\", lenth)\n",
        "print(\"Длина самого длинного скаффолда:\", all_ctg[0])\n",
        "s = 0\n",
        "for i in all_ctg:\n",
        "    s += i\n",
        "    if (s >= (lenth/2)):\n",
        "        print(\"N50:\", i)\n",
        "        break"
      ],
      "execution_count": null,
      "outputs": [
        {
          "output_type": "stream",
          "name": "stdout",
          "text": [
            "Общее количество скаффолдов: 69\n",
            "Общая длина скаффолдов: 3873512\n",
            "Длина самого длинного скаффолда: 3831667\n",
            "N50: 3831667\n"
          ]
        }
      ]
    },
    {
      "cell_type": "code",
      "metadata": {
        "id": "oZtQdVcbq5Q2",
        "colab": {
          "base_uri": "https://localhost:8080/"
        },
        "outputId": "9042d750-6a7c-40eb-9ec6-85053fdae0b5"
      },
      "source": [
        "import re\n",
        "\n",
        "f = open(\"Poil_gapClosed.fa\", \"r\")\n",
        "count = 0\n",
        "longstr = f.read()\n",
        "res = re.findall(r'(N+)', longstr)\n",
        "print('Количество:', len(res))\n",
        "for i in res:\n",
        "    count += len(i)\n",
        "print('Общая длина:', count)"
      ],
      "execution_count": null,
      "outputs": [
        {
          "output_type": "stream",
          "name": "stdout",
          "text": [
            "Количество: 23\n",
            "Общая длина: 1359\n"
          ]
        }
      ]
    },
    {
      "cell_type": "code",
      "metadata": {
        "id": "jseHrEUGHVWi"
      },
      "source": [
        ""
      ],
      "execution_count": null,
      "outputs": []
    }
  ]
}